{
 "cells": [
  {
   "cell_type": "code",
   "execution_count": 1,
   "metadata": {},
   "outputs": [],
   "source": [
    "import pandas as pd \n",
    "import numpy as np\n",
    "import seaborn as sns\n",
    "import matplotlib.pyplot as plt"
   ]
  },
  {
   "cell_type": "markdown",
   "metadata": {},
   "source": [
    "## Data preparation"
   ]
  },
  {
   "cell_type": "markdown",
   "metadata": {},
   "source": [
    "Data from: https://physionet.org/content/mimiciii-demo/1.4/  \n",
    "Details: https://mimic.physionet.org/mimictables/admissions/ and https://mit-lcp.github.io/mimic-schema-spy/"
   ]
  },
  {
   "cell_type": "code",
   "execution_count": 2,
   "metadata": {},
   "outputs": [],
   "source": [
    "# Path to folder with data \n",
    "folder_path = \"mimic-iii-clinical-database-demo-1.4/\"\n",
    "\n",
    "\n",
    "\n",
    "# Data \n",
    "\n",
    "\n",
    "pacient = pd.read_csv(folder_path+\"PATIENTS.csv\")\n",
    "labevents = pd.read_csv(folder_path+\"LABEVENTS.csv\")\n",
    "admissions = pd.read_csv(folder_path+\"ADMISSIONS.csv\")"
   ]
  },
  {
   "cell_type": "code",
   "execution_count": 3,
   "metadata": {
    "scrolled": true
   },
   "outputs": [
    {
     "name": "stderr",
     "output_type": "stream",
     "text": [
      "C:\\ProgramData\\Anaconda3\\lib\\site-packages\\pandas\\core\\generic.py:5303: SettingWithCopyWarning: \n",
      "A value is trying to be set on a copy of a slice from a DataFrame.\n",
      "Try using .loc[row_indexer,col_indexer] = value instead\n",
      "\n",
      "See the caveats in the documentation: https://pandas.pydata.org/pandas-docs/stable/user_guide/indexing.html#returning-a-view-versus-a-copy\n",
      "  self[name] = value\n"
     ]
    }
   ],
   "source": [
    "#Clean admissions \n",
    "\n",
    "admissions_c=admissions.iloc[:,[1,2,3,6,7,10,11,12,13,9,8,17]]\n",
    "admissions_c.admittime=pd.to_datetime(admissions_c.admittime)\n",
    "\n",
    "# Zostawiam dane tylko z ostatniej wizyty w szpitalu \n",
    "admissions_c=admissions_c.iloc[admissions_c.groupby([\"subject_id\"]).admittime.idxmax(),:]"
   ]
  },
  {
   "cell_type": "code",
   "execution_count": 4,
   "metadata": {},
   "outputs": [],
   "source": [
    "# Clean pacient \n",
    "pacient_c=pacient.iloc[:,[1,2,3,4,5,7]]"
   ]
  },
  {
   "cell_type": "code",
   "execution_count": 5,
   "metadata": {},
   "outputs": [
    {
     "data": {
      "text/html": [
       "<div>\n",
       "<style scoped>\n",
       "    .dataframe tbody tr th:only-of-type {\n",
       "        vertical-align: middle;\n",
       "    }\n",
       "\n",
       "    .dataframe tbody tr th {\n",
       "        vertical-align: top;\n",
       "    }\n",
       "\n",
       "    .dataframe thead th {\n",
       "        text-align: right;\n",
       "    }\n",
       "</style>\n",
       "<table border=\"1\" class=\"dataframe\">\n",
       "  <thead>\n",
       "    <tr style=\"text-align: right;\">\n",
       "      <th></th>\n",
       "      <th>subject_id</th>\n",
       "      <th>gender</th>\n",
       "      <th>dob</th>\n",
       "      <th>dod</th>\n",
       "      <th>dod_hosp</th>\n",
       "      <th>expire_flag</th>\n",
       "    </tr>\n",
       "  </thead>\n",
       "  <tbody>\n",
       "    <tr>\n",
       "      <th>0</th>\n",
       "      <td>10006</td>\n",
       "      <td>F</td>\n",
       "      <td>2094-03-05 00:00:00</td>\n",
       "      <td>2165-08-12 00:00:00</td>\n",
       "      <td>2165-08-12 00:00:00</td>\n",
       "      <td>1</td>\n",
       "    </tr>\n",
       "    <tr>\n",
       "      <th>1</th>\n",
       "      <td>10011</td>\n",
       "      <td>F</td>\n",
       "      <td>2090-06-05 00:00:00</td>\n",
       "      <td>2126-08-28 00:00:00</td>\n",
       "      <td>2126-08-28 00:00:00</td>\n",
       "      <td>1</td>\n",
       "    </tr>\n",
       "    <tr>\n",
       "      <th>2</th>\n",
       "      <td>10013</td>\n",
       "      <td>F</td>\n",
       "      <td>2038-09-03 00:00:00</td>\n",
       "      <td>2125-10-07 00:00:00</td>\n",
       "      <td>2125-10-07 00:00:00</td>\n",
       "      <td>1</td>\n",
       "    </tr>\n",
       "    <tr>\n",
       "      <th>3</th>\n",
       "      <td>10017</td>\n",
       "      <td>F</td>\n",
       "      <td>2075-09-21 00:00:00</td>\n",
       "      <td>2152-09-12 00:00:00</td>\n",
       "      <td>NaN</td>\n",
       "      <td>1</td>\n",
       "    </tr>\n",
       "    <tr>\n",
       "      <th>4</th>\n",
       "      <td>10019</td>\n",
       "      <td>M</td>\n",
       "      <td>2114-06-20 00:00:00</td>\n",
       "      <td>2163-05-15 00:00:00</td>\n",
       "      <td>2163-05-15 00:00:00</td>\n",
       "      <td>1</td>\n",
       "    </tr>\n",
       "    <tr>\n",
       "      <th>...</th>\n",
       "      <td>...</td>\n",
       "      <td>...</td>\n",
       "      <td>...</td>\n",
       "      <td>...</td>\n",
       "      <td>...</td>\n",
       "      <td>...</td>\n",
       "    </tr>\n",
       "    <tr>\n",
       "      <th>95</th>\n",
       "      <td>44083</td>\n",
       "      <td>M</td>\n",
       "      <td>2057-11-15 00:00:00</td>\n",
       "      <td>2114-02-20 00:00:00</td>\n",
       "      <td>2114-02-20 00:00:00</td>\n",
       "      <td>1</td>\n",
       "    </tr>\n",
       "    <tr>\n",
       "      <th>96</th>\n",
       "      <td>44154</td>\n",
       "      <td>M</td>\n",
       "      <td>1878-05-14 00:00:00</td>\n",
       "      <td>2178-05-15 00:00:00</td>\n",
       "      <td>2178-05-15 00:00:00</td>\n",
       "      <td>1</td>\n",
       "    </tr>\n",
       "    <tr>\n",
       "      <th>97</th>\n",
       "      <td>44212</td>\n",
       "      <td>F</td>\n",
       "      <td>2078-06-16 00:00:00</td>\n",
       "      <td>2124-01-29 00:00:00</td>\n",
       "      <td>NaN</td>\n",
       "      <td>1</td>\n",
       "    </tr>\n",
       "    <tr>\n",
       "      <th>98</th>\n",
       "      <td>44222</td>\n",
       "      <td>M</td>\n",
       "      <td>2107-06-27 00:00:00</td>\n",
       "      <td>2182-08-03 00:00:00</td>\n",
       "      <td>2182-08-03 00:00:00</td>\n",
       "      <td>1</td>\n",
       "    </tr>\n",
       "    <tr>\n",
       "      <th>99</th>\n",
       "      <td>44228</td>\n",
       "      <td>F</td>\n",
       "      <td>2112-10-22 00:00:00</td>\n",
       "      <td>2171-04-14 00:00:00</td>\n",
       "      <td>2171-04-14 00:00:00</td>\n",
       "      <td>1</td>\n",
       "    </tr>\n",
       "  </tbody>\n",
       "</table>\n",
       "<p>100 rows × 6 columns</p>\n",
       "</div>"
      ],
      "text/plain": [
       "    subject_id gender                  dob                  dod  \\\n",
       "0        10006      F  2094-03-05 00:00:00  2165-08-12 00:00:00   \n",
       "1        10011      F  2090-06-05 00:00:00  2126-08-28 00:00:00   \n",
       "2        10013      F  2038-09-03 00:00:00  2125-10-07 00:00:00   \n",
       "3        10017      F  2075-09-21 00:00:00  2152-09-12 00:00:00   \n",
       "4        10019      M  2114-06-20 00:00:00  2163-05-15 00:00:00   \n",
       "..         ...    ...                  ...                  ...   \n",
       "95       44083      M  2057-11-15 00:00:00  2114-02-20 00:00:00   \n",
       "96       44154      M  1878-05-14 00:00:00  2178-05-15 00:00:00   \n",
       "97       44212      F  2078-06-16 00:00:00  2124-01-29 00:00:00   \n",
       "98       44222      M  2107-06-27 00:00:00  2182-08-03 00:00:00   \n",
       "99       44228      F  2112-10-22 00:00:00  2171-04-14 00:00:00   \n",
       "\n",
       "               dod_hosp  expire_flag  \n",
       "0   2165-08-12 00:00:00            1  \n",
       "1   2126-08-28 00:00:00            1  \n",
       "2   2125-10-07 00:00:00            1  \n",
       "3                   NaN            1  \n",
       "4   2163-05-15 00:00:00            1  \n",
       "..                  ...          ...  \n",
       "95  2114-02-20 00:00:00            1  \n",
       "96  2178-05-15 00:00:00            1  \n",
       "97                  NaN            1  \n",
       "98  2182-08-03 00:00:00            1  \n",
       "99  2171-04-14 00:00:00            1  \n",
       "\n",
       "[100 rows x 6 columns]"
      ]
     },
     "execution_count": 5,
     "metadata": {},
     "output_type": "execute_result"
    }
   ],
   "source": [
    "pacient_c"
   ]
  },
  {
   "cell_type": "code",
   "execution_count": 6,
   "metadata": {},
   "outputs": [],
   "source": [
    "# Clean lab\n",
    "labevents_c=labevents[-pd.isnull(labevents[\"hadm_id\"])].iloc[:,[1,2,4,6,8]]\n",
    "# Najpierw policzymy nieprawidłowe wyniki dla każdego pacjenta \n",
    "labevents_c = labevents_c.iloc[:,[0,1,4]]\n",
    "\n",
    "labevents_c.flag = labevents_c.flag.apply(lambda x: x==\"abnormal\")\n",
    "\n",
    "labevents_c=labevents_c.groupby([\"subject_id\",\"hadm_id\",]).sum().reset_index()"
   ]
  },
  {
   "cell_type": "code",
   "execution_count": 7,
   "metadata": {},
   "outputs": [],
   "source": [
    "# Łączenie \n",
    "\n",
    "\n",
    "# Najpierw wybieramy tylko wyniki dla ostatnich wizyt \n",
    "\n",
    "\n",
    "admission_labs=admissions_c.join(labevents_c,lsuffix=\"hadm_id\",rsuffix=\"hadm_id\").reset_index()\n",
    "\n",
    "\n",
    "admission_labs.rename(columns={\"subject_idhadm_id\":\"subject_id\",\"hadm_idhadm_id\":\"hadm_id\",\"flag\":\"flag_sum\"},inplace=True)\n",
    "\n",
    "# Ramka pacient \n",
    "\n",
    "admissin_lab_pacient = admission_labs.join(pacient_c,lsuffix=\"subject_id\",rsuffix=\"subject_id\")\n",
    "\n"
   ]
  },
  {
   "cell_type": "code",
   "execution_count": 9,
   "metadata": {},
   "outputs": [
    {
     "ename": "IndexError",
     "evalue": "index 16 is out of bounds for axis 0 with size 15",
     "output_type": "error",
     "traceback": [
      "\u001b[1;31m---------------------------------------------------------------------------\u001b[0m",
      "\u001b[1;31mIndexError\u001b[0m                                Traceback (most recent call last)",
      "\u001b[1;32m<ipython-input-9-04f29a79a1e8>\u001b[0m in \u001b[0;36m<module>\u001b[1;34m\u001b[0m\n\u001b[1;32m----> 1\u001b[1;33m \u001b[0madmissin_lab_pacient\u001b[0m\u001b[1;33m=\u001b[0m\u001b[0madmissin_lab_pacient\u001b[0m\u001b[1;33m=\u001b[0m\u001b[0madmissin_lab_pacient\u001b[0m\u001b[1;33m.\u001b[0m\u001b[0mdrop\u001b[0m\u001b[1;33m(\u001b[0m\u001b[0madmissin_lab_pacient\u001b[0m\u001b[1;33m.\u001b[0m\u001b[0mcolumns\u001b[0m\u001b[1;33m[\u001b[0m\u001b[1;33m[\u001b[0m\u001b[1;36m0\u001b[0m\u001b[1;33m,\u001b[0m\u001b[1;36m2\u001b[0m\u001b[1;33m,\u001b[0m\u001b[1;36m13\u001b[0m\u001b[1;33m,\u001b[0m\u001b[1;36m14\u001b[0m\u001b[1;33m,\u001b[0m\u001b[1;36m16\u001b[0m\u001b[1;33m,\u001b[0m\u001b[1;36m21\u001b[0m\u001b[1;33m]\u001b[0m\u001b[1;33m]\u001b[0m\u001b[1;33m,\u001b[0m \u001b[0maxis\u001b[0m\u001b[1;33m=\u001b[0m\u001b[1;36m1\u001b[0m\u001b[1;33m)\u001b[0m\u001b[1;33m\u001b[0m\u001b[1;33m\u001b[0m\u001b[0m\n\u001b[0m",
      "\u001b[1;32mC:\\ProgramData\\Anaconda3\\lib\\site-packages\\pandas\\core\\indexes\\base.py\u001b[0m in \u001b[0;36m__getitem__\u001b[1;34m(self, key)\u001b[0m\n\u001b[0;32m   3939\u001b[0m \u001b[1;33m\u001b[0m\u001b[0m\n\u001b[0;32m   3940\u001b[0m         \u001b[0mkey\u001b[0m \u001b[1;33m=\u001b[0m \u001b[0mcom\u001b[0m\u001b[1;33m.\u001b[0m\u001b[0mvalues_from_object\u001b[0m\u001b[1;33m(\u001b[0m\u001b[0mkey\u001b[0m\u001b[1;33m)\u001b[0m\u001b[1;33m\u001b[0m\u001b[1;33m\u001b[0m\u001b[0m\n\u001b[1;32m-> 3941\u001b[1;33m         \u001b[0mresult\u001b[0m \u001b[1;33m=\u001b[0m \u001b[0mgetitem\u001b[0m\u001b[1;33m(\u001b[0m\u001b[0mkey\u001b[0m\u001b[1;33m)\u001b[0m\u001b[1;33m\u001b[0m\u001b[1;33m\u001b[0m\u001b[0m\n\u001b[0m\u001b[0;32m   3942\u001b[0m         \u001b[1;32mif\u001b[0m \u001b[1;32mnot\u001b[0m \u001b[0mis_scalar\u001b[0m\u001b[1;33m(\u001b[0m\u001b[0mresult\u001b[0m\u001b[1;33m)\u001b[0m\u001b[1;33m:\u001b[0m\u001b[1;33m\u001b[0m\u001b[1;33m\u001b[0m\u001b[0m\n\u001b[0;32m   3943\u001b[0m             \u001b[1;32mif\u001b[0m \u001b[0mnp\u001b[0m\u001b[1;33m.\u001b[0m\u001b[0mndim\u001b[0m\u001b[1;33m(\u001b[0m\u001b[0mresult\u001b[0m\u001b[1;33m)\u001b[0m \u001b[1;33m>\u001b[0m \u001b[1;36m1\u001b[0m\u001b[1;33m:\u001b[0m\u001b[1;33m\u001b[0m\u001b[1;33m\u001b[0m\u001b[0m\n",
      "\u001b[1;31mIndexError\u001b[0m: index 16 is out of bounds for axis 0 with size 15"
     ]
    }
   ],
   "source": [
    "admissin_lab_pacient=admissin_lab_pacient=admissin_lab_pacient.drop(admissin_lab_pacient.columns[[0,2,13,14,16,21]], axis=1)"
   ]
  },
  {
   "cell_type": "code",
   "execution_count": 13,
   "metadata": {},
   "outputs": [
    {
     "ename": "NameError",
     "evalue": "name 'test' is not defined",
     "output_type": "error",
     "traceback": [
      "\u001b[1;31m---------------------------------------------------------------------------\u001b[0m",
      "\u001b[1;31mNameError\u001b[0m                                 Traceback (most recent call last)",
      "\u001b[1;32m<ipython-input-13-0825061c6c1c>\u001b[0m in \u001b[0;36m<module>\u001b[1;34m\u001b[0m\n\u001b[0;32m      3\u001b[0m \u001b[1;33m\u001b[0m\u001b[0m\n\u001b[0;32m      4\u001b[0m \u001b[1;33m\u001b[0m\u001b[0m\n\u001b[1;32m----> 5\u001b[1;33m \u001b[0mtest\u001b[0m\u001b[1;33m\u001b[0m\u001b[1;33m\u001b[0m\u001b[0m\n\u001b[0m",
      "\u001b[1;31mNameError\u001b[0m: name 'test' is not defined"
     ]
    }
   ],
   "source": [
    "admissin_lab_pacient.to_csv(\"data.csv\")\n",
    "\n",
    "\n",
    "\n",
    "test"
   ]
  },
  {
   "cell_type": "code",
   "execution_count": 18,
   "metadata": {},
   "outputs": [
    {
     "ename": "AttributeError",
     "evalue": "'str' object has no attribute 'write'",
     "output_type": "error",
     "traceback": [
      "\u001b[1;31m---------------------------------------------------------------------------\u001b[0m",
      "\u001b[1;31mAttributeError\u001b[0m                            Traceback (most recent call last)",
      "\u001b[1;32m<ipython-input-18-cf34254db23d>\u001b[0m in \u001b[0;36m<module>\u001b[1;34m\u001b[0m\n\u001b[1;32m----> 1\u001b[1;33m \u001b[0mtest\u001b[0m \u001b[1;33m=\u001b[0m \u001b[0madmissin_lab_pacient\u001b[0m\u001b[1;33m.\u001b[0m\u001b[0minfo\u001b[0m\u001b[1;33m(\u001b[0m\u001b[0mbuf\u001b[0m\u001b[1;33m=\u001b[0m\u001b[1;34m\"outdata.csv\"\u001b[0m\u001b[1;33m)\u001b[0m\u001b[1;33m\u001b[0m\u001b[1;33m\u001b[0m\u001b[0m\n\u001b[0m",
      "\u001b[1;32mC:\\ProgramData\\Anaconda3\\lib\\site-packages\\pandas\\core\\frame.py\u001b[0m in \u001b[0;36minfo\u001b[1;34m(self, verbose, buf, max_cols, memory_usage, null_counts)\u001b[0m\n\u001b[0;32m   2497\u001b[0m             \u001b[0mmem_usage\u001b[0m \u001b[1;33m=\u001b[0m \u001b[0mself\u001b[0m\u001b[1;33m.\u001b[0m\u001b[0mmemory_usage\u001b[0m\u001b[1;33m(\u001b[0m\u001b[0mindex\u001b[0m\u001b[1;33m=\u001b[0m\u001b[1;32mTrue\u001b[0m\u001b[1;33m,\u001b[0m \u001b[0mdeep\u001b[0m\u001b[1;33m=\u001b[0m\u001b[0mdeep\u001b[0m\u001b[1;33m)\u001b[0m\u001b[1;33m.\u001b[0m\u001b[0msum\u001b[0m\u001b[1;33m(\u001b[0m\u001b[1;33m)\u001b[0m\u001b[1;33m\u001b[0m\u001b[1;33m\u001b[0m\u001b[0m\n\u001b[0;32m   2498\u001b[0m             \u001b[0mlines\u001b[0m\u001b[1;33m.\u001b[0m\u001b[0mappend\u001b[0m\u001b[1;33m(\u001b[0m\u001b[1;34mf\"memory usage: {_sizeof_fmt(mem_usage, size_qualifier)}\\n\"\u001b[0m\u001b[1;33m)\u001b[0m\u001b[1;33m\u001b[0m\u001b[1;33m\u001b[0m\u001b[0m\n\u001b[1;32m-> 2499\u001b[1;33m         \u001b[0mfmt\u001b[0m\u001b[1;33m.\u001b[0m\u001b[0mbuffer_put_lines\u001b[0m\u001b[1;33m(\u001b[0m\u001b[0mbuf\u001b[0m\u001b[1;33m,\u001b[0m \u001b[0mlines\u001b[0m\u001b[1;33m)\u001b[0m\u001b[1;33m\u001b[0m\u001b[1;33m\u001b[0m\u001b[0m\n\u001b[0m\u001b[0;32m   2500\u001b[0m \u001b[1;33m\u001b[0m\u001b[0m\n\u001b[0;32m   2501\u001b[0m     \u001b[1;32mdef\u001b[0m \u001b[0mmemory_usage\u001b[0m\u001b[1;33m(\u001b[0m\u001b[0mself\u001b[0m\u001b[1;33m,\u001b[0m \u001b[0mindex\u001b[0m\u001b[1;33m=\u001b[0m\u001b[1;32mTrue\u001b[0m\u001b[1;33m,\u001b[0m \u001b[0mdeep\u001b[0m\u001b[1;33m=\u001b[0m\u001b[1;32mFalse\u001b[0m\u001b[1;33m)\u001b[0m \u001b[1;33m->\u001b[0m \u001b[0mSeries\u001b[0m\u001b[1;33m:\u001b[0m\u001b[1;33m\u001b[0m\u001b[1;33m\u001b[0m\u001b[0m\n",
      "\u001b[1;32mC:\\ProgramData\\Anaconda3\\lib\\site-packages\\pandas\\io\\formats\\format.py\u001b[0m in \u001b[0;36mbuffer_put_lines\u001b[1;34m(buf, lines)\u001b[0m\n\u001b[0;32m   1992\u001b[0m     \u001b[1;32mif\u001b[0m \u001b[0many\u001b[0m\u001b[1;33m(\u001b[0m\u001b[0misinstance\u001b[0m\u001b[1;33m(\u001b[0m\u001b[0mx\u001b[0m\u001b[1;33m,\u001b[0m \u001b[0mstr\u001b[0m\u001b[1;33m)\u001b[0m \u001b[1;32mfor\u001b[0m \u001b[0mx\u001b[0m \u001b[1;32min\u001b[0m \u001b[0mlines\u001b[0m\u001b[1;33m)\u001b[0m\u001b[1;33m:\u001b[0m\u001b[1;33m\u001b[0m\u001b[1;33m\u001b[0m\u001b[0m\n\u001b[0;32m   1993\u001b[0m         \u001b[0mlines\u001b[0m \u001b[1;33m=\u001b[0m \u001b[1;33m[\u001b[0m\u001b[0mstr\u001b[0m\u001b[1;33m(\u001b[0m\u001b[0mx\u001b[0m\u001b[1;33m)\u001b[0m \u001b[1;32mfor\u001b[0m \u001b[0mx\u001b[0m \u001b[1;32min\u001b[0m \u001b[0mlines\u001b[0m\u001b[1;33m]\u001b[0m\u001b[1;33m\u001b[0m\u001b[1;33m\u001b[0m\u001b[0m\n\u001b[1;32m-> 1994\u001b[1;33m     \u001b[0mbuf\u001b[0m\u001b[1;33m.\u001b[0m\u001b[0mwrite\u001b[0m\u001b[1;33m(\u001b[0m\u001b[1;34m\"\\n\"\u001b[0m\u001b[1;33m.\u001b[0m\u001b[0mjoin\u001b[0m\u001b[1;33m(\u001b[0m\u001b[0mlines\u001b[0m\u001b[1;33m)\u001b[0m\u001b[1;33m)\u001b[0m\u001b[1;33m\u001b[0m\u001b[1;33m\u001b[0m\u001b[0m\n\u001b[0m",
      "\u001b[1;31mAttributeError\u001b[0m: 'str' object has no attribute 'write'"
     ]
    }
   ],
   "source": [
    "\n",
    "\n",
    "test = admissin_lab_pacient.info(buf=)"
   ]
  },
  {
   "cell_type": "code",
   "execution_count": 20,
   "metadata": {},
   "outputs": [],
   "source": [
    "import io\n",
    "buffer = io.StringIO()\n",
    "admissin_lab_pacient.info(buf=buffer)\n",
    "s = buffer.getvalue()\n",
    "with open(\"df_info.txt\", \"w\",\n",
    "          encoding=\"utf-8\") as f:  \n",
    "    f.write(s)"
   ]
  },
  {
   "cell_type": "markdown",
   "metadata": {},
   "source": [
    "We will try to create model to predict if patient died in hospital or not. This information is located in column 'hospital_expire_flag' in our dataframe. In this column 1 means that he died in hospital and 0 that he died elsewhere. "
   ]
  },
  {
   "cell_type": "markdown",
   "metadata": {},
   "source": [
    "## EDA"
   ]
  },
  {
   "cell_type": "code",
   "execution_count": 87,
   "metadata": {
    "scrolled": false
   },
   "outputs": [
    {
     "data": {
      "text/html": [
       "<div>\n",
       "<style scoped>\n",
       "    .dataframe tbody tr th:only-of-type {\n",
       "        vertical-align: middle;\n",
       "    }\n",
       "\n",
       "    .dataframe tbody tr th {\n",
       "        vertical-align: top;\n",
       "    }\n",
       "\n",
       "    .dataframe thead th {\n",
       "        text-align: right;\n",
       "    }\n",
       "</style>\n",
       "<table border=\"1\" class=\"dataframe\">\n",
       "  <thead>\n",
       "    <tr style=\"text-align: right;\">\n",
       "      <th></th>\n",
       "      <th>admittime</th>\n",
       "      <th>admission_type</th>\n",
       "      <th>admission_location</th>\n",
       "      <th>language</th>\n",
       "      <th>religion</th>\n",
       "      <th>marital_status</th>\n",
       "      <th>ethnicity</th>\n",
       "      <th>insurance</th>\n",
       "      <th>discharge_location</th>\n",
       "      <th>hospital_expire_flag</th>\n",
       "      <th>flag_sum</th>\n",
       "      <th>gender</th>\n",
       "      <th>dob</th>\n",
       "      <th>dod</th>\n",
       "      <th>dod_hosp</th>\n",
       "    </tr>\n",
       "  </thead>\n",
       "  <tbody>\n",
       "    <tr>\n",
       "      <th>0</th>\n",
       "      <td>2164-10-23 21:09:00</td>\n",
       "      <td>EMERGENCY</td>\n",
       "      <td>EMERGENCY ROOM ADMIT</td>\n",
       "      <td>NaN</td>\n",
       "      <td>CATHOLIC</td>\n",
       "      <td>SEPARATED</td>\n",
       "      <td>BLACK/AFRICAN AMERICAN</td>\n",
       "      <td>Medicare</td>\n",
       "      <td>HOME HEALTH CARE</td>\n",
       "      <td>0</td>\n",
       "      <td>91</td>\n",
       "      <td>F</td>\n",
       "      <td>2094-03-05 00:00:00</td>\n",
       "      <td>2165-08-12 00:00:00</td>\n",
       "      <td>2165-08-12 00:00:00</td>\n",
       "    </tr>\n",
       "    <tr>\n",
       "      <th>1</th>\n",
       "      <td>2126-08-14 22:32:00</td>\n",
       "      <td>EMERGENCY</td>\n",
       "      <td>TRANSFER FROM HOSP/EXTRAM</td>\n",
       "      <td>NaN</td>\n",
       "      <td>CATHOLIC</td>\n",
       "      <td>SINGLE</td>\n",
       "      <td>UNKNOWN/NOT SPECIFIED</td>\n",
       "      <td>Private</td>\n",
       "      <td>DEAD/EXPIRED</td>\n",
       "      <td>1</td>\n",
       "      <td>250</td>\n",
       "      <td>F</td>\n",
       "      <td>2090-06-05 00:00:00</td>\n",
       "      <td>2126-08-28 00:00:00</td>\n",
       "      <td>2126-08-28 00:00:00</td>\n",
       "    </tr>\n",
       "    <tr>\n",
       "      <th>2</th>\n",
       "      <td>2125-10-04 23:36:00</td>\n",
       "      <td>EMERGENCY</td>\n",
       "      <td>TRANSFER FROM HOSP/EXTRAM</td>\n",
       "      <td>NaN</td>\n",
       "      <td>CATHOLIC</td>\n",
       "      <td>NaN</td>\n",
       "      <td>UNKNOWN/NOT SPECIFIED</td>\n",
       "      <td>Medicare</td>\n",
       "      <td>DEAD/EXPIRED</td>\n",
       "      <td>1</td>\n",
       "      <td>38</td>\n",
       "      <td>F</td>\n",
       "      <td>2038-09-03 00:00:00</td>\n",
       "      <td>2125-10-07 00:00:00</td>\n",
       "      <td>2125-10-07 00:00:00</td>\n",
       "    </tr>\n",
       "    <tr>\n",
       "      <th>3</th>\n",
       "      <td>2149-05-26 17:19:00</td>\n",
       "      <td>EMERGENCY</td>\n",
       "      <td>EMERGENCY ROOM ADMIT</td>\n",
       "      <td>NaN</td>\n",
       "      <td>CATHOLIC</td>\n",
       "      <td>DIVORCED</td>\n",
       "      <td>WHITE</td>\n",
       "      <td>Medicare</td>\n",
       "      <td>SNF</td>\n",
       "      <td>0</td>\n",
       "      <td>109</td>\n",
       "      <td>F</td>\n",
       "      <td>2075-09-21 00:00:00</td>\n",
       "      <td>2152-09-12 00:00:00</td>\n",
       "      <td>NaN</td>\n",
       "    </tr>\n",
       "    <tr>\n",
       "      <th>4</th>\n",
       "      <td>2163-05-14 20:43:00</td>\n",
       "      <td>EMERGENCY</td>\n",
       "      <td>TRANSFER FROM HOSP/EXTRAM</td>\n",
       "      <td>NaN</td>\n",
       "      <td>CATHOLIC</td>\n",
       "      <td>DIVORCED</td>\n",
       "      <td>WHITE</td>\n",
       "      <td>Medicare</td>\n",
       "      <td>DEAD/EXPIRED</td>\n",
       "      <td>1</td>\n",
       "      <td>142</td>\n",
       "      <td>M</td>\n",
       "      <td>2114-06-20 00:00:00</td>\n",
       "      <td>2163-05-15 00:00:00</td>\n",
       "      <td>2163-05-15 00:00:00</td>\n",
       "    </tr>\n",
       "  </tbody>\n",
       "</table>\n",
       "</div>"
      ],
      "text/plain": [
       "            admittime admission_type         admission_location language  \\\n",
       "0 2164-10-23 21:09:00      EMERGENCY       EMERGENCY ROOM ADMIT      NaN   \n",
       "1 2126-08-14 22:32:00      EMERGENCY  TRANSFER FROM HOSP/EXTRAM      NaN   \n",
       "2 2125-10-04 23:36:00      EMERGENCY  TRANSFER FROM HOSP/EXTRAM      NaN   \n",
       "3 2149-05-26 17:19:00      EMERGENCY       EMERGENCY ROOM ADMIT      NaN   \n",
       "4 2163-05-14 20:43:00      EMERGENCY  TRANSFER FROM HOSP/EXTRAM      NaN   \n",
       "\n",
       "   religion marital_status               ethnicity insurance  \\\n",
       "0  CATHOLIC      SEPARATED  BLACK/AFRICAN AMERICAN  Medicare   \n",
       "1  CATHOLIC         SINGLE   UNKNOWN/NOT SPECIFIED   Private   \n",
       "2  CATHOLIC            NaN   UNKNOWN/NOT SPECIFIED  Medicare   \n",
       "3  CATHOLIC       DIVORCED                   WHITE  Medicare   \n",
       "4  CATHOLIC       DIVORCED                   WHITE  Medicare   \n",
       "\n",
       "  discharge_location  hospital_expire_flag  flag_sum gender  \\\n",
       "0   HOME HEALTH CARE                     0        91      F   \n",
       "1       DEAD/EXPIRED                     1       250      F   \n",
       "2       DEAD/EXPIRED                     1        38      F   \n",
       "3                SNF                     0       109      F   \n",
       "4       DEAD/EXPIRED                     1       142      M   \n",
       "\n",
       "                   dob                  dod             dod_hosp  \n",
       "0  2094-03-05 00:00:00  2165-08-12 00:00:00  2165-08-12 00:00:00  \n",
       "1  2090-06-05 00:00:00  2126-08-28 00:00:00  2126-08-28 00:00:00  \n",
       "2  2038-09-03 00:00:00  2125-10-07 00:00:00  2125-10-07 00:00:00  \n",
       "3  2075-09-21 00:00:00  2152-09-12 00:00:00                  NaN  \n",
       "4  2114-06-20 00:00:00  2163-05-15 00:00:00  2163-05-15 00:00:00  "
      ]
     },
     "execution_count": 87,
     "metadata": {},
     "output_type": "execute_result"
    }
   ],
   "source": [
    "# Finalne Dane\n",
    "# Daty raczej kosz\n",
    "# Można próbować albo z flag_sum (ale to ciężko) lepiej przewidywać albo gender, albo hospital_expire_flag ( umarł czy nie w szpitalu)\n",
    "\n",
    "admissin_lab_pacient.head()"
   ]
  },
  {
   "cell_type": "markdown",
   "metadata": {},
   "source": [
    "* we can check if 'discharge_location' and 'hospital_expire_flag' have a correlation between themselves. "
   ]
  },
  {
   "cell_type": "code",
   "execution_count": 88,
   "metadata": {},
   "outputs": [
    {
     "name": "stdout",
     "output_type": "stream",
     "text": [
      "<class 'pandas.core.frame.DataFrame'>\n",
      "RangeIndex: 100 entries, 0 to 99\n",
      "Data columns (total 15 columns):\n",
      " #   Column                Non-Null Count  Dtype         \n",
      "---  ------                --------------  -----         \n",
      " 0   admittime             100 non-null    datetime64[ns]\n",
      " 1   admission_type        100 non-null    object        \n",
      " 2   admission_location    100 non-null    object        \n",
      " 3   language              57 non-null     object        \n",
      " 4   religion              99 non-null     object        \n",
      " 5   marital_status        85 non-null     object        \n",
      " 6   ethnicity             100 non-null    object        \n",
      " 7   insurance             100 non-null    object        \n",
      " 8   discharge_location    100 non-null    object        \n",
      " 9   hospital_expire_flag  100 non-null    int64         \n",
      " 10  flag_sum              100 non-null    int64         \n",
      " 11  gender                100 non-null    object        \n",
      " 12  dob                   100 non-null    object        \n",
      " 13  dod                   100 non-null    object        \n",
      " 14  dod_hosp              70 non-null     object        \n",
      "dtypes: datetime64[ns](1), int64(2), object(12)\n",
      "memory usage: 11.8+ KB\n"
     ]
    }
   ],
   "source": [
    "admissin_lab_pacient.info()"
   ]
  },
  {
   "cell_type": "code",
   "execution_count": 89,
   "metadata": {},
   "outputs": [
    {
     "data": {
      "text/html": [
       "<div>\n",
       "<style scoped>\n",
       "    .dataframe tbody tr th:only-of-type {\n",
       "        vertical-align: middle;\n",
       "    }\n",
       "\n",
       "    .dataframe tbody tr th {\n",
       "        vertical-align: top;\n",
       "    }\n",
       "\n",
       "    .dataframe thead th {\n",
       "        text-align: right;\n",
       "    }\n",
       "</style>\n",
       "<table border=\"1\" class=\"dataframe\">\n",
       "  <thead>\n",
       "    <tr style=\"text-align: right;\">\n",
       "      <th>hospital_expire_flag</th>\n",
       "      <th>0</th>\n",
       "      <th>1</th>\n",
       "    </tr>\n",
       "    <tr>\n",
       "      <th>discharge_location</th>\n",
       "      <th></th>\n",
       "      <th></th>\n",
       "    </tr>\n",
       "  </thead>\n",
       "  <tbody>\n",
       "    <tr>\n",
       "      <th>DEAD/EXPIRED</th>\n",
       "      <td>NaN</td>\n",
       "      <td>40.0</td>\n",
       "    </tr>\n",
       "    <tr>\n",
       "      <th>DISCH-TRAN TO PSYCH HOSP</th>\n",
       "      <td>1.0</td>\n",
       "      <td>NaN</td>\n",
       "    </tr>\n",
       "    <tr>\n",
       "      <th>HOME</th>\n",
       "      <td>12.0</td>\n",
       "      <td>NaN</td>\n",
       "    </tr>\n",
       "    <tr>\n",
       "      <th>HOME HEALTH CARE</th>\n",
       "      <td>11.0</td>\n",
       "      <td>NaN</td>\n",
       "    </tr>\n",
       "    <tr>\n",
       "      <th>HOME WITH HOME IV PROVIDR</th>\n",
       "      <td>1.0</td>\n",
       "      <td>NaN</td>\n",
       "    </tr>\n",
       "    <tr>\n",
       "      <th>HOSPICE-HOME</th>\n",
       "      <td>1.0</td>\n",
       "      <td>NaN</td>\n",
       "    </tr>\n",
       "    <tr>\n",
       "      <th>ICF</th>\n",
       "      <td>1.0</td>\n",
       "      <td>NaN</td>\n",
       "    </tr>\n",
       "    <tr>\n",
       "      <th>LONG TERM CARE HOSPITAL</th>\n",
       "      <td>1.0</td>\n",
       "      <td>NaN</td>\n",
       "    </tr>\n",
       "    <tr>\n",
       "      <th>REHAB/DISTINCT PART HOSP</th>\n",
       "      <td>11.0</td>\n",
       "      <td>NaN</td>\n",
       "    </tr>\n",
       "    <tr>\n",
       "      <th>SNF</th>\n",
       "      <td>21.0</td>\n",
       "      <td>NaN</td>\n",
       "    </tr>\n",
       "  </tbody>\n",
       "</table>\n",
       "</div>"
      ],
      "text/plain": [
       "hospital_expire_flag          0     1\n",
       "discharge_location                   \n",
       "DEAD/EXPIRED                NaN  40.0\n",
       "DISCH-TRAN TO PSYCH HOSP    1.0   NaN\n",
       "HOME                       12.0   NaN\n",
       "HOME HEALTH CARE           11.0   NaN\n",
       "HOME WITH HOME IV PROVIDR   1.0   NaN\n",
       "HOSPICE-HOME                1.0   NaN\n",
       "ICF                         1.0   NaN\n",
       "LONG TERM CARE HOSPITAL     1.0   NaN\n",
       "REHAB/DISTINCT PART HOSP   11.0   NaN\n",
       "SNF                        21.0   NaN"
      ]
     },
     "execution_count": 89,
     "metadata": {},
     "output_type": "execute_result"
    }
   ],
   "source": [
    "# We can check the koralation between 'discharge_location' and 'hospital_expire_flag'. \n",
    "df = admissin_lab_pacient.groupby([\"discharge_location\", \"hospital_expire_flag\"]).size().reset_index(name='size')\n",
    "df = df.pivot(columns=\"hospital_expire_flag\", index=\"discharge_location\", values=\"size\")\n",
    "df"
   ]
  },
  {
   "cell_type": "markdown",
   "metadata": {},
   "source": [
    "'discharge_location' and 'hospital_expire_flag' give the same data: if there is 'DEAD/EXPIRE' in  'discharge_location', then 'hospital_expire_flag' equals 1. If 'discharge_location' equals anything else then 'hospital_expire_flag' equals 0. That means we can drop 'discharge_location'.  \n",
    "We can also drop columns with dates. "
   ]
  },
  {
   "cell_type": "markdown",
   "metadata": {},
   "source": [
    "## Preprocessing"
   ]
  },
  {
   "cell_type": "markdown",
   "metadata": {},
   "source": [
    "### Encoding data"
   ]
  },
  {
   "cell_type": "code",
   "execution_count": 21,
   "metadata": {
    "scrolled": false
   },
   "outputs": [
    {
     "data": {
      "text/html": [
       "<div>\n",
       "<style scoped>\n",
       "    .dataframe tbody tr th:only-of-type {\n",
       "        vertical-align: middle;\n",
       "    }\n",
       "\n",
       "    .dataframe tbody tr th {\n",
       "        vertical-align: top;\n",
       "    }\n",
       "\n",
       "    .dataframe thead th {\n",
       "        text-align: right;\n",
       "    }\n",
       "</style>\n",
       "<table border=\"1\" class=\"dataframe\">\n",
       "  <thead>\n",
       "    <tr style=\"text-align: right;\">\n",
       "      <th></th>\n",
       "      <th>admittime</th>\n",
       "      <th>admission_type</th>\n",
       "      <th>admission_location</th>\n",
       "      <th>language</th>\n",
       "      <th>religion</th>\n",
       "      <th>marital_status</th>\n",
       "      <th>ethnicity</th>\n",
       "      <th>insurance</th>\n",
       "      <th>discharge_location</th>\n",
       "      <th>hospital_expire_flag</th>\n",
       "      <th>flag_sum</th>\n",
       "      <th>gender</th>\n",
       "      <th>dob</th>\n",
       "      <th>dod</th>\n",
       "      <th>dod_hosp</th>\n",
       "    </tr>\n",
       "  </thead>\n",
       "  <tbody>\n",
       "    <tr>\n",
       "      <th>0</th>\n",
       "      <td>2164-10-23 21:09:00</td>\n",
       "      <td>1</td>\n",
       "      <td>1</td>\n",
       "      <td>5</td>\n",
       "      <td>1</td>\n",
       "      <td>2</td>\n",
       "      <td>2</td>\n",
       "      <td>2</td>\n",
       "      <td>3</td>\n",
       "      <td>0</td>\n",
       "      <td>91.0</td>\n",
       "      <td>0</td>\n",
       "      <td>2094-03-05 00:00:00</td>\n",
       "      <td>2165-08-12 00:00:00</td>\n",
       "      <td>2165-08-12 00:00:00</td>\n",
       "    </tr>\n",
       "    <tr>\n",
       "      <th>1</th>\n",
       "      <td>2126-08-14 22:32:00</td>\n",
       "      <td>1</td>\n",
       "      <td>3</td>\n",
       "      <td>5</td>\n",
       "      <td>1</td>\n",
       "      <td>3</td>\n",
       "      <td>7</td>\n",
       "      <td>3</td>\n",
       "      <td>0</td>\n",
       "      <td>1</td>\n",
       "      <td>250.0</td>\n",
       "      <td>0</td>\n",
       "      <td>2090-06-05 00:00:00</td>\n",
       "      <td>2126-08-28 00:00:00</td>\n",
       "      <td>2126-08-28 00:00:00</td>\n",
       "    </tr>\n",
       "    <tr>\n",
       "      <th>2</th>\n",
       "      <td>2125-10-04 23:36:00</td>\n",
       "      <td>1</td>\n",
       "      <td>3</td>\n",
       "      <td>5</td>\n",
       "      <td>1</td>\n",
       "      <td>6</td>\n",
       "      <td>7</td>\n",
       "      <td>2</td>\n",
       "      <td>0</td>\n",
       "      <td>1</td>\n",
       "      <td>38.0</td>\n",
       "      <td>0</td>\n",
       "      <td>2038-09-03 00:00:00</td>\n",
       "      <td>2125-10-07 00:00:00</td>\n",
       "      <td>2125-10-07 00:00:00</td>\n",
       "    </tr>\n",
       "    <tr>\n",
       "      <th>3</th>\n",
       "      <td>2149-05-26 17:19:00</td>\n",
       "      <td>1</td>\n",
       "      <td>1</td>\n",
       "      <td>5</td>\n",
       "      <td>1</td>\n",
       "      <td>0</td>\n",
       "      <td>8</td>\n",
       "      <td>2</td>\n",
       "      <td>9</td>\n",
       "      <td>0</td>\n",
       "      <td>109.0</td>\n",
       "      <td>0</td>\n",
       "      <td>2075-09-21 00:00:00</td>\n",
       "      <td>2152-09-12 00:00:00</td>\n",
       "      <td>NaN</td>\n",
       "    </tr>\n",
       "    <tr>\n",
       "      <th>4</th>\n",
       "      <td>2163-05-14 20:43:00</td>\n",
       "      <td>1</td>\n",
       "      <td>3</td>\n",
       "      <td>5</td>\n",
       "      <td>1</td>\n",
       "      <td>0</td>\n",
       "      <td>8</td>\n",
       "      <td>2</td>\n",
       "      <td>0</td>\n",
       "      <td>1</td>\n",
       "      <td>142.0</td>\n",
       "      <td>1</td>\n",
       "      <td>2114-06-20 00:00:00</td>\n",
       "      <td>2163-05-15 00:00:00</td>\n",
       "      <td>2163-05-15 00:00:00</td>\n",
       "    </tr>\n",
       "  </tbody>\n",
       "</table>\n",
       "</div>"
      ],
      "text/plain": [
       "            admittime  admission_type  admission_location  language  religion  \\\n",
       "0 2164-10-23 21:09:00               1                   1         5         1   \n",
       "1 2126-08-14 22:32:00               1                   3         5         1   \n",
       "2 2125-10-04 23:36:00               1                   3         5         1   \n",
       "3 2149-05-26 17:19:00               1                   1         5         1   \n",
       "4 2163-05-14 20:43:00               1                   3         5         1   \n",
       "\n",
       "   marital_status  ethnicity  insurance  discharge_location  \\\n",
       "0               2          2          2                   3   \n",
       "1               3          7          3                   0   \n",
       "2               6          7          2                   0   \n",
       "3               0          8          2                   9   \n",
       "4               0          8          2                   0   \n",
       "\n",
       "   hospital_expire_flag  flag_sum  gender                  dob  \\\n",
       "0                     0      91.0       0  2094-03-05 00:00:00   \n",
       "1                     1     250.0       0  2090-06-05 00:00:00   \n",
       "2                     1      38.0       0  2038-09-03 00:00:00   \n",
       "3                     0     109.0       0  2075-09-21 00:00:00   \n",
       "4                     1     142.0       1  2114-06-20 00:00:00   \n",
       "\n",
       "                   dod             dod_hosp  \n",
       "0  2165-08-12 00:00:00  2165-08-12 00:00:00  \n",
       "1  2126-08-28 00:00:00  2126-08-28 00:00:00  \n",
       "2  2125-10-07 00:00:00  2125-10-07 00:00:00  \n",
       "3  2152-09-12 00:00:00                  NaN  \n",
       "4  2163-05-15 00:00:00  2163-05-15 00:00:00  "
      ]
     },
     "execution_count": 21,
     "metadata": {},
     "output_type": "execute_result"
    }
   ],
   "source": [
    "# In our DataFrame we have mostly categorical data. We can try to encode data to help us with creating ML models. \n",
    "# We will keep our encoded data in encoded_admissin_lab_pacient variable.\n",
    "# We can also keep legend to what encoded value means in each category(encoding_legend variable). \n",
    "from sklearn.preprocessing import LabelEncoder\n",
    "columns_to_encode = [\"admission_type\", \"admission_location\", \"religion\", \"marital_status\", \"ethnicity\", \n",
    "                     \"insurance\", \"discharge_location\", \"gender\", \"language\"]\n",
    "\n",
    "encoded_admissin_lab_pacient = admissin_lab_pacient.copy()\n",
    "encoding_legend = pd.DataFrame(columns=['value', 'column_name', 'encoded_value'])\n",
    "\n",
    "le = LabelEncoder()\n",
    "\n",
    "for column in columns_to_encode: \n",
    "    encoded_admissin_lab_pacient[column] = encoded_admissin_lab_pacient[column].astype(str)\n",
    "    encoded_admissin_lab_pacient[column] = le.fit_transform(encoded_admissin_lab_pacient[column])\n",
    "    \n",
    "    encoding_legend = encoding_legend.append(pd.DataFrame({\"value\" : admissin_lab_pacient[column], \n",
    "                            \"column_name\" : column, \n",
    "                            \"encoded_value\" : encoded_admissin_lab_pacient[column]}), ignore_index=True)\n",
    "\n",
    "encoded_admissin_lab_pacient.head()"
   ]
  },
  {
   "cell_type": "code",
   "execution_count": 22,
   "metadata": {},
   "outputs": [],
   "source": [
    "# We can drop colmns with dates and 'discharge_location'. \n",
    "encoded_admissin_lab_pacient = encoded_admissin_lab_pacient.drop([\"admittime\", \"discharge_location\", \"dob\", \n",
    "                                                                  \"dod\", \"dod_hosp\"], axis=1)"
   ]
  },
  {
   "cell_type": "markdown",
   "metadata": {},
   "source": [
    "## Test Train split"
   ]
  },
  {
   "cell_type": "code",
   "execution_count": 23,
   "metadata": {
    "scrolled": true
   },
   "outputs": [
    {
     "name": "stdout",
     "output_type": "stream",
     "text": [
      "Liczba obserwacji w zbiorze treningowym: 67\n",
      "Liczba obserwacji w zbiorze testowym: 33\n",
      "Liczba zmiennych w modelu: 9\n"
     ]
    }
   ],
   "source": [
    "from sklearn.model_selection import train_test_split\n",
    "alp_X_train, alp_X_test, alp_y_train, alp_y_test = train_test_split(\n",
    "    encoded_admissin_lab_pacient.loc[:, encoded_admissin_lab_pacient.columns != 'hospital_expire_flag'], \n",
    "    encoded_admissin_lab_pacient['hospital_expire_flag'], \n",
    "    test_size=0.33, random_state=42)\n",
    "\n",
    "print('Liczba obserwacji w zbiorze treningowym:', alp_X_train.shape[0])\n",
    "print('Liczba obserwacji w zbiorze testowym:', alp_X_test.shape[0])\n",
    "\n",
    "print('Liczba zmiennych w modelu:', alp_X_train.shape[1])"
   ]
  },
  {
   "cell_type": "markdown",
   "metadata": {},
   "source": [
    "## Modele"
   ]
  },
  {
   "cell_type": "markdown",
   "metadata": {},
   "source": [
    "### Drzewo decyzyjne"
   ]
  },
  {
   "cell_type": "code",
   "execution_count": 24,
   "metadata": {
    "scrolled": false
   },
   "outputs": [
    {
     "data": {
      "text/plain": [
       "[Text(167.4, 181.2, 'X[7] <= 241.0\\ngini = 0.46\\nsamples = 67\\nvalue = [43, 24]'),\n",
       " Text(83.7, 108.72, 'X[3] <= 7.5\\ngini = 0.393\\nsamples = 52\\nvalue = [38, 14]'),\n",
       " Text(41.85, 36.23999999999998, 'gini = 0.283\\nsamples = 41\\nvalue = [34, 7]'),\n",
       " Text(125.55000000000001, 36.23999999999998, 'gini = 0.463\\nsamples = 11\\nvalue = [4, 7]'),\n",
       " Text(251.10000000000002, 108.72, 'X[0] <= 0.5\\ngini = 0.444\\nsamples = 15\\nvalue = [5, 10]'),\n",
       " Text(209.25, 36.23999999999998, 'gini = 0.0\\nsamples = 1\\nvalue = [1, 0]'),\n",
       " Text(292.95, 36.23999999999998, 'gini = 0.408\\nsamples = 14\\nvalue = [4, 10]')]"
      ]
     },
     "execution_count": 24,
     "metadata": {},
     "output_type": "execute_result"
    },
    {
     "data": {
      "image/png": "[encoded data removed]",
      "text/plain": [
       "<Figure size 432x288 with 1 Axes>"
      ]
     },
     "metadata": {
      "needs_background": "light"
     },
     "output_type": "display_data"
    }
   ],
   "source": [
    "# We create decision tree classifier \n",
    "from sklearn.tree import DecisionTreeClassifier, plot_tree\n",
    "decision_tree = DecisionTreeClassifier(max_depth=2)\n",
    "decision_tree.fit(\n",
    "    alp_X_train, \n",
    "    alp_y_train)\n",
    "\n",
    "predictions = decision_tree.predict_proba(alp_X_test)\n",
    "\n",
    "plot_tree(decision_tree)"
   ]
  },
  {
   "cell_type": "markdown",
   "metadata": {},
   "source": [
    "## Ocena jakości modeli"
   ]
  },
  {
   "cell_type": "code",
   "execution_count": 25,
   "metadata": {},
   "outputs": [
    {
     "data": {
      "text/plain": [
       "<sklearn.metrics._plot.roc_curve.RocCurveDisplay at 0x25f92f73888>"
      ]
     },
     "execution_count": 25,
     "metadata": {},
     "output_type": "execute_result"
    },
    {
     "data": {
      "image/png": "[encoded data removed]",
      "text/plain": [
       "<Figure size 432x288 with 1 Axes>"
      ]
     },
     "metadata": {
      "needs_background": "light"
     },
     "output_type": "display_data"
    }
   ],
   "source": [
    "# Create ROC plot to decision tree\n",
    "from sklearn import metrics\n",
    "metrics.plot_roc_curve(decision_tree, alp_X_test, alp_y_test)"
   ]
  }
 ],
 "metadata": {
  "kernelspec": {
   "display_name": "Python 3",
   "language": "python",
   "name": "python3"
  },
  "language_info": {
   "codemirror_mode": {
    "name": "ipython",
    "version": 3
   },
   "file_extension": ".py",
   "mimetype": "text/x-python",
   "name": "python",
   "nbconvert_exporter": "python",
   "pygments_lexer": "ipython3",
   "version": "3.7.6"
  }
 },
 "nbformat": 4,
 "nbformat_minor": 4
}
